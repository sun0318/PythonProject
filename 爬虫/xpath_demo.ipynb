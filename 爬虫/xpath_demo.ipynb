{
 "cells": [
  {
   "metadata": {},
   "cell_type": "code",
   "outputs": [],
   "execution_count": null,
   "source": [
    "from lxml import etree\n",
    "import requests\n",
    "if __name__ == \"__main__\":\n",
    "    url = \"https://career.cic.tsinghua.edu.cn/xsglxt/f/jyxt/anony/viewDzxzph/9457952\"\n",
    "    headers = {\n",
    "        \"User-Agent\": \"Mozilla/5.0 (Windows NT 10.0; Win64; x64) AppleWebKit/537.36 (KHTML, like Gecko) Chrome/127.0.0.0 Safari/537.36\"\n",
    "    }\n",
    "    response = requests.post(url=url, headers=headers)\n",
    "    print(response.text)\n",
    "    tree = etree.HTML(response.text)\n",
    "    body = tree.xpath('/html/body/div[@class=\"modal-body\"]/table/tr[1]/th/text()')\n",
    "    # for child in body:\n",
    "    #     print(child.tag)\n",
    "    print(body)\n",
    "    #1"
   ],
   "id": "2931ac784616bc9b"
  }
 ],
 "metadata": {},
 "nbformat": 5,
 "nbformat_minor": 9
}
